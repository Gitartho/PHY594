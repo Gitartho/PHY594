{
 "cells": [
  {
   "cell_type": "markdown",
   "metadata": {},
   "source": [
    "# Physics 494/594\n",
    "## Generalization of the MNIST Model"
   ]
  },
  {
   "cell_type": "code",
   "execution_count": null,
   "metadata": {},
   "outputs": [],
   "source": [
    "# %load ./include/header.py\n",
    "import numpy as np\n",
    "import matplotlib.pyplot as plt\n",
    "import sys\n",
    "from tqdm import trange,tqdm\n",
    "sys.path.append('./include')\n",
    "import ml4s\n",
    "\n",
    "%matplotlib inline\n",
    "%config InlineBackend.figure_format = 'svg'\n",
    "plt.style.use('./include/notebook.mplstyle')\n",
    "np.set_printoptions(linewidth=120)\n",
    "ml4s.set_css_style('./include/bootstrap.css')\n",
    "colors = plt.rcParams['axes.prop_cycle'].by_key()['color']"
   ]
  },
  {
   "cell_type": "markdown",
   "metadata": {},
   "source": [
    "## Last Time\n",
    "\n",
    "### [Notebook Link: 21_MNIST_Softmax.ipynb](./21_MNIST_Softmax.ipynb)\n",
    "\n",
    "- Classification for many classes (1-hot encoding and softmax)\n",
    "- MNIST: hand-written digits\n",
    "\n",
    "## Today\n",
    "- Explore the robustness and generalizability of our classification model.\n",
    "- Investigate translations and rotations of digits.\n",
    "\n",
    "### Import tensorflow"
   ]
  },
  {
   "cell_type": "code",
   "execution_count": null,
   "metadata": {},
   "outputs": [],
   "source": [
    "import tensorflow as tf\n",
    "from tensorflow import keras\n",
    "from tensorflow.keras import layers\n",
    "import datetime"
   ]
  },
  {
   "cell_type": "markdown",
   "metadata": {},
   "source": [
    "### Load the MNIST Data Set"
   ]
  },
  {
   "cell_type": "code",
   "execution_count": null,
   "metadata": {},
   "outputs": [],
   "source": [
    "# load the data\n",
    "(x_train, y_train), (x_test, y_test) = tf.keras.datasets.mnist.load_data()\n",
    "\n",
    "# determine the properties\n",
    "rows,cols = x_train[0].shape\n",
    "num_classes = np.max(y_test)+1\n",
    "\n",
    "# reshape and rescale\n",
    "x_train = x_train.reshape(x_train.shape[0], rows*cols).astype('float32')/255\n",
    "x_test = x_test.reshape(x_test.shape[0], rows*cols).astype('float32')/255\n",
    "\n",
    "# use a built-in function to get 1-hot encoding\n",
    "y_train_hot = keras.utils.to_categorical(y_train, num_classes)\n",
    "y_test_hot = keras.utils.to_categorical(y_test, num_classes)"
   ]
  },
  {
   "cell_type": "markdown",
   "metadata": {},
   "source": [
    "### Define a function that shows many digits"
   ]
  },
  {
   "cell_type": "code",
   "execution_count": null,
   "metadata": {},
   "outputs": [],
   "source": [
    "def plot_digit_array(x,y, show_prediction=False):\n",
    "    '''Expects a list of digits (x) and associated labels (y)'''\n",
    "    \n",
    "    # determine the number of rows and columns of our image array\n",
    "    num_digits = x.shape[0]\n",
    "    num_cols = int(np.sqrt(num_digits))\n",
    "    num_rows = num_digits//num_cols + 1\n",
    "\n",
    "    fig,ax = plt.subplots(nrows=num_rows,ncols=num_cols,sharex=True,sharey=True,\n",
    "                          figsize=(num_cols,num_rows))\n",
    "    \n",
    "    # plot all the numbers\n",
    "    for i,cax in enumerate(ax.flatten()):\n",
    "        if i < num_digits:\n",
    "            cax.matshow(x[i].reshape(28,28), cmap='binary')\n",
    "            cax.axis('off')\n",
    "            if show_prediction:\n",
    "                cax.text(0.99,0.99,f'{y[i]}',horizontalalignment='right',verticalalignment='top', \n",
    "                         transform=cax.transAxes, fontsize=8, color='r')\n",
    "        else:\n",
    "            cax.axis('off')"
   ]
  },
  {
   "cell_type": "markdown",
   "metadata": {},
   "source": [
    "### Setup the Model and Load Weights from a Checkpoint\n",
    "\n",
    "To load weights, we need to ensure consistency of the model."
   ]
  },
  {
   "cell_type": "code",
   "execution_count": null,
   "metadata": {},
   "outputs": [],
   "source": [
    "model = keras.Sequential(\n",
    "[\n",
    "    layers.Dense(128,input_shape=(rows*cols,),activation='relu'),\n",
    "    layers.Dropout(0.25),\n",
    "    layers.Dense(num_classes, activation='softmax')\n",
    "])\n",
    "model.summary()\n",
    "\n",
    "# load the weights\n",
    "checkpoint_path = \"checkpoints/mnist_dnn/cp.ckpt\"\n",
    "model.load_weights(checkpoint_path)\n",
    "\n",
    "# compile the new model\n",
    "model.compile(loss=tf.losses.CategoricalCrossentropy(), optimizer='adam', metrics=[tf.metrics.CategoricalAccuracy()])"
   ]
  },
  {
   "cell_type": "markdown",
   "metadata": {},
   "source": [
    "### Investigate the predictions"
   ]
  },
  {
   "cell_type": "code",
   "execution_count": null,
   "metadata": {},
   "outputs": [],
   "source": [
    "predictions_prob_train = model(x_train)\n",
    "predictions_prob_test = model(x_test)\n",
    "\n",
    "predictions_train = np.argmax(predictions_prob_train,axis=1)\n",
    "predictions_test = np.argmax(predictions_prob_test,axis=1)\n",
    "\n",
    "mistakes_train = np.where(predictions_train != y_train)[0]\n",
    "mistakes_test = np.where(predictions_test != y_test)[0]\n",
    "\n",
    "num_mistakes_train,num_mistakes_test = len(mistakes_train),len(mistakes_test)\n",
    "\n",
    "print(f'Train Mistakes: {100*num_mistakes_train/x_train.shape[0]:.2f}%')\n",
    "print(f'Test Mistakes : {100*num_mistakes_test/x_test.shape[0]:.2f}%')"
   ]
  },
  {
   "cell_type": "markdown",
   "metadata": {},
   "source": [
    "### Plot some mistakes"
   ]
  },
  {
   "cell_type": "code",
   "execution_count": null,
   "metadata": {},
   "outputs": [],
   "source": [
    "plot_digit_array(x_test[mistakes_test[:100]],predictions_test[mistakes_test[:100]],show_prediction=True)"
   ]
  },
  {
   "cell_type": "markdown",
   "metadata": {},
   "source": [
    "### Investigate how well our network generalizes\n",
    "\n",
    "Let's first determine the cases where we predicted the correct label"
   ]
  },
  {
   "cell_type": "code",
   "execution_count": null,
   "metadata": {},
   "outputs": [],
   "source": [
    "correct_train = np.where(predictions_train == y_train)[0]\n",
    "correct_test = np.where(predictions_test == y_test)[0]"
   ]
  },
  {
   "cell_type": "code",
   "execution_count": null,
   "metadata": {},
   "outputs": [],
   "source": [
    "from matplotlib import gridspec\n",
    "\n",
    "idx = np.random.choice(correct_test)\n",
    "\n",
    "fig = plt.figure(figsize=(3,1.2*3),constrained_layout=True) \n",
    "gs = gridspec.GridSpec(2, 1, height_ratios=[1, 5], figure=fig) \n",
    "\n",
    "ax = [plt.subplot(gs[0]),plt.subplot(gs[1])]\n",
    "\n",
    "ax[0].bar(range(num_classes),predictions_prob_test[idx], color='r')\n",
    "ax[0].set_xticks(range(num_classes))\n",
    "ax[0].set_yticks([]);\n",
    "ax[0].set_xlim(-0.5,9.5)\n",
    "\n",
    "ax[1].matshow(x_test[idx,:].reshape(rows,cols), cmap='binary')\n",
    "ax[1].text(0.99,0.99,f'{predictions_test[idx]}',horizontalalignment='right',verticalalignment='top', \n",
    "                         transform=ax[1].transAxes, color='r')\n",
    "ax[1].set_xticks([]);\n",
    "ax[1].set_yticks([]);"
   ]
  },
  {
   "cell_type": "markdown",
   "metadata": {},
   "source": [
    "### Let's see what happens if we translate the image"
   ]
  },
  {
   "cell_type": "code",
   "execution_count": null,
   "metadata": {},
   "outputs": [],
   "source": [
    "shift = 0\n",
    "translated_image = np.roll(x_test[idx,:].reshape(rows,cols), shift, axis=[1, 0])\n",
    "\n",
    "# make a prediction\n",
    "predict = model(translated_image.reshape(1,rows*cols))\n",
    "\n",
    "fig = plt.figure(figsize=(3,1.2*3),constrained_layout=True) \n",
    "gs = gridspec.GridSpec(2, 1, height_ratios=[1, 5], figure=fig) \n",
    "\n",
    "ax = [plt.subplot(gs[0]),plt.subplot(gs[1])]\n",
    "\n",
    "ax[0].bar(range(num_classes),predict[0,:], color='r')\n",
    "ax[0].set_xticks(range(num_classes))\n",
    "ax[0].set_yticks([]);\n",
    "ax[0].set_xlim(-0.5,9.5)\n",
    "\n",
    "ax[1].matshow(translated_image, cmap='binary')\n",
    "\n",
    "ax[1].text(0.99,0.99,f'{np.argmax(predict,axis=1)[0]}',horizontalalignment='right',verticalalignment='top', \n",
    "                         transform=ax[1].transAxes, color='r')\n",
    "ax[1].set_xticks([]);\n",
    "ax[1].set_yticks([]);"
   ]
  },
  {
   "cell_type": "markdown",
   "metadata": {},
   "source": [
    "### Or rotate it"
   ]
  },
  {
   "cell_type": "code",
   "execution_count": null,
   "metadata": {},
   "outputs": [],
   "source": [
    "from scipy import ndimage\n",
    "\n",
    "angle = 15\n",
    "rotated_digit = np.abs(ndimage.rotate(x_test[idx,:].reshape(rows,cols), angle, reshape=False))\n",
    "rotated_digit -= np.min(rotated_digit)\n",
    "rotated_digit /= np.max(rotated_digit)\n",
    "\n",
    "# make a prediction\n",
    "predict = model(rotated_digit.reshape(1,rows*cols))\n",
    "\n",
    "fig = plt.figure(figsize=(3,1.2*3),constrained_layout=True) \n",
    "gs = gridspec.GridSpec(2, 1, height_ratios=[1, 5], figure=fig) \n",
    "\n",
    "ax = [plt.subplot(gs[0]),plt.subplot(gs[1])]\n",
    "\n",
    "ax[0].bar(range(num_classes),predict[0,:], color='r')\n",
    "ax[0].set_xticks(range(num_classes))\n",
    "ax[0].set_yticks([]);\n",
    "ax[0].set_xlim(-0.5,9.5)\n",
    "\n",
    "ax[1].matshow(rotated_digit, cmap='binary')\n",
    "\n",
    "ax[1].text(0.99,0.99,f'{np.argmax(predict,axis=1)[0]}',horizontalalignment='right',verticalalignment='top', \n",
    "                         transform=ax[1].transAxes, color='r')\n",
    "ax[1].set_xticks([]);\n",
    "ax[1].set_yticks([]);"
   ]
  },
  {
   "cell_type": "markdown",
   "metadata": {},
   "source": [
    "### This seems worrysome, our brains can do this trivially!  \n",
    "\n",
    "Taking into account spatial correlations is the idea behind convolutional neural networks (CNN)!"
   ]
  }
 ],
 "metadata": {
  "kernelspec": {
   "display_name": "Python 3 (ipykernel)",
   "language": "python",
   "name": "python3"
  },
  "language_info": {
   "codemirror_mode": {
    "name": "ipython",
    "version": 3
   },
   "file_extension": ".py",
   "mimetype": "text/x-python",
   "name": "python",
   "nbconvert_exporter": "python",
   "pygments_lexer": "ipython3",
   "version": "3.9.7"
  }
 },
 "nbformat": 4,
 "nbformat_minor": 4
}
