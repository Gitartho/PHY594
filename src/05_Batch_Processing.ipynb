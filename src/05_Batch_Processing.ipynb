{
 "cells": [
  {
   "cell_type": "markdown",
   "metadata": {},
   "source": [
    "# Physics 494/594\n",
    "## Batch Processing and Linear Algebra with Numpy\n",
    "\n",
    "<img src='https://numpy.org/images/logo.svg' width=300px>"
   ]
  },
  {
   "cell_type": "code",
   "execution_count": null,
   "metadata": {},
   "outputs": [],
   "source": [
    "# %load ./include/header.py\n",
    "import numpy as np\n",
    "import matplotlib.pyplot as plt\n",
    "import sys\n",
    "from tqdm import trange,tqdm\n",
    "sys.path.append('./include')\n",
    "import ml4s\n",
    "%matplotlib inline\n",
    "%config InlineBackend.figure_format = 'svg'\n",
    "plt.style.use('./include/notebook.mplstyle')\n",
    "np.set_printoptions(linewidth=120)\n",
    "ml4s.set_css_style('./include/bootstrap.css')\n",
    "colors = plt.rcParams['axes.prop_cycle'].by_key()['color']"
   ]
  },
  {
   "cell_type": "markdown",
   "metadata": {
    "tags": []
   },
   "source": [
    "## Last Time\n",
    "\n",
    "### [Notebook Link:04_Visualizing_NN_Output.ipynb](./04_Visualizing_NN_Output.ipynb)\n",
    "\n",
    "- Understand the output of a neural network with 2 input neurons via visualization\n",
    "\n",
    "## Today\n",
    "- Explore linear algebra in `numpy` for batch processing of samples\n",
    "- More information about doing linear algebra in `numpy` is included in [tutorial_numpy_arrays.ipynb](./tutorial_numpy_arrays.ipynb)"
   ]
  },
  {
   "cell_type": "markdown",
   "metadata": {},
   "source": [
    "### `numpy` is **much** faster than built in python lists\n",
    "\n",
    "Here I'm using an iPython cell `magic` to time code in a given cell.  You can see a list of all magics [here](https://ipython.readthedocs.io/en/stable/interactive/magics.html).\n",
    "\n",
    "Let's create a list of all integers up to $10^{7}$."
   ]
  },
  {
   "cell_type": "code",
   "execution_count": null,
   "metadata": {},
   "outputs": [],
   "source": [
    "%%time\n",
    "num_elements = 10_000_000\n",
    "x1 = []\n",
    "for i in range(num_elements):\n",
    "    x1.append(i*i)\n",
    "    \n",
    "print(x1[-10:])"
   ]
  },
  {
   "cell_type": "code",
   "execution_count": null,
   "metadata": {},
   "outputs": [],
   "source": [
    "%%time\n",
    "x2 = np.arange(num_elements)**2\n",
    "print(x1[-10:])"
   ]
  },
  {
   "cell_type": "markdown",
   "metadata": {},
   "source": [
    "#### Matrix Multiplication\n",
    "`np.dot` contracts over the innermost index. We need to think carefully about this when considering batches of training (input) samples.  We have also seen that we can use the `@` symbol for matrix multiplication."
   ]
  },
  {
   "cell_type": "code",
   "execution_count": null,
   "metadata": {},
   "outputs": [],
   "source": [
    "N = [8,7]\n",
    "Nsamples = 30\n",
    "\n",
    "W = np.random.uniform(low=-10,high=10,size=[N[1],N[0]])\n",
    "x = np.zeros([N[0],Nsamples])\n",
    "\n",
    "# Now perform the dot product (b = 0 for now)\n",
    "z = np.dot(W,x)\n",
    "print(z.shape)"
   ]
  },
  {
   "cell_type": "markdown",
   "metadata": {},
   "source": [
    "<div class=\"span alert alert-danger\">\n",
    "This is a problem! $z$ has dimensions $N_1 \\times N_{\\rm samples}$. Let's see what happens when we try to add the biases.\n",
    "    </div>"
   ]
  },
  {
   "cell_type": "code",
   "execution_count": null,
   "metadata": {},
   "outputs": [],
   "source": [
    "b = np.random.uniform(low=-1,high=1,size=[N[1]])\n",
    "z = np.dot(W,x) + b"
   ]
  },
  {
   "cell_type": "markdown",
   "metadata": {},
   "source": [
    "We can fix this with the re-ordering if indices we discussed:"
   ]
  },
  {
   "cell_type": "code",
   "execution_count": null,
   "metadata": {},
   "outputs": [],
   "source": [
    "# But with a re-ordering of indices, this works!\n",
    "# So, let's take the dimension of size 30 to be\n",
    "# the very first one:\n",
    "W = np.random.uniform(low=-10,high=10,size=[N[0],N[1]])\n",
    "x = np.zeros([Nsamples,N[0]])\n",
    "\n",
    "print(np.dot(x,W).shape)"
   ]
  },
  {
   "cell_type": "markdown",
   "metadata": {},
   "source": [
    "Now we can add the bias vector and we will get the correct output shape."
   ]
  },
  {
   "cell_type": "code",
   "execution_count": null,
   "metadata": {},
   "outputs": [],
   "source": [
    "z = np.dot(x,W)+b\n",
    "print(z.shape)"
   ]
  },
  {
   "cell_type": "markdown",
   "metadata": {},
   "source": [
    "### Modified Apply Network Functions\n",
    "We need to make a small modification to our `feed_forward` function to reflect the new ordering.\n",
    "\n",
    "`np.dot(w[ℓ],a)` $\\to$ `np.dot(a,w[ℓ])`"
   ]
  },
  {
   "cell_type": "code",
   "execution_count": null,
   "metadata": {},
   "outputs": [],
   "source": [
    "def feed_forward(a0,w,b):\n",
    "    num_layers = len(w)\n",
    "    a = a0\n",
    "    for ℓ in range(num_layers):\n",
    "        z = np.dot(a,w[ℓ]) + b[ℓ]\n",
    "        a = 1.0/(1.0+np.exp(-z))\n",
    "    return a"
   ]
  },
  {
   "cell_type": "markdown",
   "metadata": {},
   "source": [
    "Note that we have changed the code: `N[ℓ],N[ℓ-1]` to `N[ℓ-1],N[ℓ]` as $w$ is now a $N_{\\ell-1} \\times N_{\\ell}$ matrix!"
   ]
  },
  {
   "cell_type": "code",
   "execution_count": null,
   "metadata": {},
   "outputs": [],
   "source": [
    "N = [9,5,1]\n",
    "w,b = [],[]\n",
    "\n",
    "# Note: we have updated the matrix dimensions and now start the loop at 1\n",
    "for ℓ in range(1,len(N)):\n",
    "    w.append(np.random.uniform(low=-10,high=10,size=(N[ℓ-1],N[ℓ])))\n",
    "    b.append(np.random.uniform(low=-1,high=1, size=N[ℓ]))"
   ]
  },
  {
   "cell_type": "markdown",
   "metadata": {},
   "source": [
    "Apply the network `batch_size` times in parallel!"
   ]
  },
  {
   "cell_type": "code",
   "execution_count": null,
   "metadata": {},
   "outputs": [],
   "source": [
    "%%time\n",
    "batch_size=10000\n",
    "x = np.random.uniform(low=-1,high=1,size=(batch_size,N[0]))\n",
    "a_out = feed_forward(x,w,b)"
   ]
  },
  {
   "cell_type": "markdown",
   "metadata": {},
   "source": [
    "Check the shape of the output"
   ]
  },
  {
   "cell_type": "code",
   "execution_count": null,
   "metadata": {},
   "outputs": [],
   "source": [
    "a_out.shape"
   ]
  },
  {
   "cell_type": "markdown",
   "metadata": {},
   "source": [
    "## Efficient Visualization of our Simple Neural Network"
   ]
  },
  {
   "cell_type": "code",
   "execution_count": null,
   "metadata": {},
   "outputs": [],
   "source": [
    "N = [2,400,400,1]\n",
    "w,b = [],[]\n",
    "for ℓ in range(len(N)-1):\n",
    "    w.append(np.random.uniform(low=-10,high=10,size=(N[ℓ],N[ℓ+1])))\n",
    "    b.append(np.random.uniform(low=-1,high=1, size=N[ℓ+1]))"
   ]
  },
  {
   "cell_type": "markdown",
   "metadata": {},
   "source": [
    "### Using Meshgrid to Evaluate in Parallel"
   ]
  },
  {
   "cell_type": "code",
   "execution_count": null,
   "metadata": {},
   "outputs": [],
   "source": [
    "grid_size = 200 # the size of the grid of input values\n",
    "\n",
    "# the box size\n",
    "x0_min,x0_max = -1.0,1.0\n",
    "x1_min,x1_max = -1.0,1.0\n",
    "\n",
    "x = np.meshgrid(np.linspace(x0_min,x0_max,grid_size),np.linspace(x1_min,x1_max,grid_size))"
   ]
  },
  {
   "cell_type": "code",
   "execution_count": null,
   "metadata": {},
   "outputs": [],
   "source": [
    "fig,ax = plt.subplots(1,2, figsize=(8,4))\n",
    "for i,cax in enumerate(ax):\n",
    "    pcm = cax.pcolormesh(x[i],cmap='Spectral_r', rasterized=True)\n",
    "    cax.set_title(f'$x_{i}$')\n",
    "    cax.set_aspect('equal')\n",
    "\n",
    "fig.tight_layout()\n",
    "fig.colorbar(pcm, ax=ax[:], shrink=0.6, label='Coordinate Value');"
   ]
  },
  {
   "cell_type": "markdown",
   "metadata": {},
   "source": [
    "Now we need to flatten as our network always takes a 1D array as input"
   ]
  },
  {
   "cell_type": "code",
   "execution_count": null,
   "metadata": {},
   "outputs": [],
   "source": [
    "xflat = [x[0].flatten(),x[1].flatten()]\n",
    "np.shape(xflat[0]) # this should be grid_size^2"
   ]
  },
  {
   "cell_type": "code",
   "execution_count": null,
   "metadata": {},
   "outputs": [],
   "source": [
    "batch_size = grid_size**2\n",
    "a0 = np.zeros([batch_size,2])\n",
    "\n",
    "a0[:,0]=xflat[0] # fill first component (index 0)\n",
    "a0[:,1]=xflat[1] # fill second component"
   ]
  },
  {
   "cell_type": "markdown",
   "metadata": {},
   "source": [
    "### Now we can apply the network for each sample in parallel"
   ]
  },
  {
   "cell_type": "code",
   "execution_count": null,
   "metadata": {},
   "outputs": [],
   "source": [
    "%%time\n",
    "a1 = feed_forward(a0,w,b)"
   ]
  },
  {
   "cell_type": "markdown",
   "metadata": {},
   "source": [
    "### Plot the result"
   ]
  },
  {
   "cell_type": "code",
   "execution_count": null,
   "metadata": {},
   "outputs": [],
   "source": [
    "a1 = a1.reshape(grid_size,grid_size) # reshape for plotting\n",
    "\n",
    "plt.imshow(a1, extent=[-1,1,-1,1], cmap='Spectral_r', rasterized=True, interpolation='lanczos', origin='lower')\n",
    "plt.colorbar(label='Activation')\n",
    "plt.xlabel(r'$x_1$')\n",
    "plt.ylabel(r'$x_0$');"
   ]
  },
  {
   "cell_type": "markdown",
   "metadata": {},
   "source": [
    "### Can also visualize in 3D!"
   ]
  },
  {
   "cell_type": "code",
   "execution_count": null,
   "metadata": {},
   "outputs": [],
   "source": [
    "from mpl_toolkits.mplot3d import Axes3D\n",
    "\n",
    "fig = plt.figure(figsize=(8,6))\n",
    "ax = plt.axes(projection='3d')\n",
    "\n",
    "surf = ax.plot_surface(x[0], x[1],a1 , rstride=1, cstride=1, cmap='Spectral_r', \n",
    "                       linewidth=0, antialiased=True, rasterized=True)\n",
    "ax.set_xlabel(r'$x_0$',labelpad=8)\n",
    "ax.set_ylabel(r'$x_1$',labelpad=8)\n",
    "ax.set_zlabel(r'$f(\\mathbf{x} )$',labelpad=8);"
   ]
  }
 ],
 "metadata": {
  "kernelspec": {
   "display_name": "Python 3",
   "language": "python",
   "name": "python3"
  },
  "language_info": {
   "codemirror_mode": {
    "name": "ipython",
    "version": 3
   },
   "file_extension": ".py",
   "mimetype": "text/x-python",
   "name": "python",
   "nbconvert_exporter": "python",
   "pygments_lexer": "ipython3",
   "version": "3.9.1"
  }
 },
 "nbformat": 4,
 "nbformat_minor": 4
}
