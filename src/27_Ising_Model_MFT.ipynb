{
 "cells": [
  {
   "cell_type": "markdown",
   "metadata": {
    "tags": []
   },
   "source": [
    "# Physics 494/594\n",
    "## Mean Field Thery for the Ising Model"
   ]
  },
  {
   "cell_type": "code",
   "execution_count": null,
   "metadata": {
    "tags": []
   },
   "outputs": [],
   "source": [
    "# %load ./include/header.py\n",
    "import numpy as np\n",
    "import matplotlib.pyplot as plt\n",
    "import sys\n",
    "from tqdm import trange,tqdm\n",
    "sys.path.append('./include')\n",
    "import ml4s\n",
    "\n",
    "%matplotlib inline\n",
    "%config InlineBackend.figure_format = 'svg'\n",
    "plt.style.use('./include/notebook.mplstyle')\n",
    "np.set_printoptions(linewidth=120)\n",
    "ml4s.set_css_style('./include/bootstrap.css')\n",
    "colors = plt.rcParams['axes.prop_cycle'].by_key()['color']\n",
    "π = np.pi"
   ]
  },
  {
   "cell_type": "markdown",
   "metadata": {},
   "source": [
    "## Last Time\n",
    "\n",
    "### [Notebook Link: 26_Convolutional_Networks_Implementation.ipynb](./26_Convolutional_Networks_Implementation.ipynb)\n",
    "\n",
    "- Convolutional network implementation in tensorflow\n",
    "- Re-train on MNIST and explore improved generalizability\n",
    "\n",
    "## Today\n",
    "- Implement a numerical solution for the mean field magnetization of the 2D Ising model\n"
   ]
  },
  {
   "cell_type": "markdown",
   "metadata": {},
   "source": [
    "### We identified the mean field solution for the magnetization of the 2D Ising model\n",
    "\n",
    "\\begin{equation}\n",
    "\\langle m \\rangle = \\tanh \\left(\\frac{ z J\\langle m \\rangle + h}{k_{\\rm B}T}\\right)\n",
    "\\end{equation}\n",
    "\n",
    "As we are interested in the existince of a ferromagnetic phase in the absence of a magnetic field, set $h = 0$.\n",
    "\n",
    "#### Let's begin by looking for a graphical solution.  \n",
    "\n",
    "Define $x = zJ/(k_{\\rm B} T)$: at fixed $J$, $x\\gg 1$ corresponds to low temperature while $x\\ll 1$ is high temperature.\n",
    "\n",
    "We know that $\\langle m \\rangle$ is bounded between $-1 \\le \\langle m \\rangle \\le 1$."
   ]
  },
  {
   "cell_type": "code",
   "execution_count": null,
   "metadata": {
    "tags": []
   },
   "outputs": [],
   "source": [
    "m = np.linspace(-1.1,1.1,1000)"
   ]
  },
  {
   "cell_type": "code",
   "execution_count": null,
   "metadata": {
    "collapsed": false,
    "jupyter": {
     "outputs_hidden": false
    }
   },
   "outputs": [],
   "source": [
    "plt.plot(m,m,color='k', label=r'$y=\\langle m \\rangle $')\n",
    "for cx in [10, 2,1.25,1.0,0.5]:\n",
    "    plt.plot(m,np.tanh(m*cx), label=f'$x = {cx:4.2f}$')\n",
    "plt.xlabel(r'$\\langle m \\rangle$')\n",
    "plt.legend(loc='lower right')\n",
    "plt.title('Mean Field Theory');"
   ]
  },
  {
   "cell_type": "markdown",
   "metadata": {},
   "source": [
    "## Constructing the solution as a function of temperature\n",
    "\n",
    "It appears that there is always at least one solution for $0 \\le x \\le \\infty $ which corresponds to $\\infty \\ge T \\ge 0$. "
   ]
  },
  {
   "cell_type": "code",
   "execution_count": null,
   "metadata": {},
   "outputs": [],
   "source": [
    "from scipy.optimize import fsolve"
   ]
  },
  {
   "cell_type": "markdown",
   "metadata": {},
   "source": [
    "#### Find the solution of the equation\n",
    "\n",
    "\\begin{equation}\n",
    "\\langle m \\rangle - \\tanh \\left(\\langle m \\rangle x\\right)  = 0\n",
    "\\end{equation}\n",
    "\n",
    "with \n",
    "\n",
    "\\begin{equation}\n",
    "x = \\frac{zJ}{k_{\\rm B} T}\\, .\n",
    "\\end{equation}\n",
    "\n",
    "As there is clear time reversal symmetry ($\\langle m \\rangle \\to \\langle -m \\rangle$) we will only take the positive magnetization solution. "
   ]
  },
  {
   "cell_type": "code",
   "execution_count": null,
   "metadata": {
    "tags": []
   },
   "outputs": [],
   "source": [
    "def mean_field_eqn(m,cx):\n",
    "    '''The mean field equation for the magnetization.'''\n",
    "    return m - np.tanh(m*cx)"
   ]
  },
  {
   "cell_type": "code",
   "execution_count": null,
   "metadata": {
    "collapsed": false,
    "jupyter": {
     "outputs_hidden": false
    }
   },
   "outputs": [],
   "source": [
    "x = np.linspace(0.5,100,10000)\n",
    "mx = np.array([fsolve(mean_field_eqn, 1.1, args=(cx)) for cx in x])"
   ]
  },
  {
   "cell_type": "code",
   "execution_count": null,
   "metadata": {
    "collapsed": false,
    "jupyter": {
     "outputs_hidden": false
    }
   },
   "outputs": [],
   "source": [
    "plt.plot(1.0/x,mx, linewidth=4)\n",
    "plt.xlabel(r'Temperature  $k_{\\rm B} T / Jz$')\n",
    "plt.ylabel(r'Magnetization  $\\langle m \\rangle$')\n",
    "plt.text(0.15,0.5,'Ferromagnet', fontsize=16)\n",
    "plt.text(1.2,0.5,'Paramagnet', fontsize=16)\n",
    "plt.ylim(-0.001,1.05);\n",
    "plt.xlim(0,2)"
   ]
  },
  {
   "cell_type": "markdown",
   "metadata": {},
   "source": [
    "## Compare with the exact solution due to Onsager\n",
    "\n",
    "\\begin{equation}\n",
    "m=\\left[1-\\left(\\sinh \\frac{2J}{k_{\\rm B}T}\\right)^{-4}\\right]^{\\frac {1}{8}}\n",
    "\\end{equation}"
   ]
  },
  {
   "cell_type": "code",
   "execution_count": null,
   "metadata": {},
   "outputs": [],
   "source": [
    "def magnetization_exact_(T):\n",
    "    '''We use units where J/k_B = 1.'''\n",
    "    Tc = 2.0/np.log(1.0+np.sqrt(2.0))\n",
    "    if T < Tc:\n",
    "        return (1.0 - np.sinh(2.0/T)**(-4))**(1.0/8)\n",
    "    else:\n",
    "        return 0.0\n",
    "magnetization_exact = np.vectorize(magnetization_exact_)\n",
    "\n",
    "Tc = 2.0/np.log(1.0+np.sqrt(2.0))\n",
    "T = np.linspace(0.01,3*Tc,1000)"
   ]
  },
  {
   "cell_type": "code",
   "execution_count": null,
   "metadata": {},
   "outputs": [],
   "source": [
    "plt.plot(1.0/x,mx, 'o', ms=4, mfc='None', label = 'Mean Field')\n",
    "plt.plot(T/Tc,magnetization_exact(T),'-', linewidth=1, label='Onsager', color=colors[0])\n",
    "\n",
    "plt.xlabel(r'Temperature  $T/T_{\\rm c}$')\n",
    "plt.ylabel(r'Magnetization  $\\langle m \\rangle$')\n",
    "plt.ylim(-0.001,1.05);\n",
    "plt.xlim(0,2)\n",
    "plt.legend();"
   ]
  },
  {
   "cell_type": "code",
   "execution_count": null,
   "metadata": {},
   "outputs": [],
   "source": []
  }
 ],
 "metadata": {
  "kernelspec": {
   "display_name": "Python 3 (ipykernel)",
   "language": "python",
   "name": "python3"
  },
  "language_info": {
   "codemirror_mode": {
    "name": "ipython",
    "version": 3
   },
   "file_extension": ".py",
   "mimetype": "text/x-python",
   "name": "python",
   "nbconvert_exporter": "python",
   "pygments_lexer": "ipython3",
   "version": "3.9.12"
  }
 },
 "nbformat": 4,
 "nbformat_minor": 4
}
