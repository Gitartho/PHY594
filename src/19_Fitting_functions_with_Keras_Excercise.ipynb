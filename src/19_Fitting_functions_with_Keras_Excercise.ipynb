{
 "cells": [
  {
   "cell_type": "markdown",
   "metadata": {},
   "source": [
    "# Physics 494/594\n",
    "## Keras Exercise: Curve Fitting"
   ]
  },
  {
   "cell_type": "code",
   "execution_count": null,
   "metadata": {},
   "outputs": [],
   "source": [
    "# %load ./include/header.py\n",
    "import numpy as np\n",
    "import matplotlib.pyplot as plt\n",
    "import sys\n",
    "from tqdm import trange,tqdm\n",
    "sys.path.append('./include')\n",
    "import ml4s\n",
    "\n",
    "%matplotlib inline\n",
    "%config InlineBackend.figure_format = 'svg'\n",
    "plt.style.use('./include/notebook.mplstyle')\n",
    "np.set_printoptions(linewidth=120)\n",
    "ml4s.set_css_style('./include/bootstrap.css')\n",
    "colors = plt.rcParams['axes.prop_cycle'].by_key()['color']"
   ]
  },
  {
   "cell_type": "markdown",
   "metadata": {},
   "source": [
    "## Last Time\n",
    "\n",
    "### [Notebook Link: 18_Introduction_to_Keras.ipynb](./18_Introduction_to_Keras.ipynb)\n",
    "\n",
    "- Learn how to use the `keras` and `tensorflow` libraries to build sequential deep neural networks.\n",
    "- Learn a simple 2D logical function\n",
    "\n",
    "## Today\n",
    "\n",
    "- Use a linear output neuron to fit a 1D function\n",
    "\n",
    "Until now we have always use a sigmoid for the output layer, but we can choose a linear output neuron to allow us to generic curve fitting!\n",
    "\n",
    "### Import tensorflow"
   ]
  },
  {
   "cell_type": "code",
   "execution_count": null,
   "metadata": {},
   "outputs": [],
   "source": [
    "import tensorflow as tf\n",
    "from tensorflow import keras\n",
    "from tensorflow.keras import layers\n",
    "import datetime"
   ]
  },
  {
   "cell_type": "markdown",
   "metadata": {},
   "source": [
    "<div class=\"span alert alert-success\">\n",
    "    <h3>Programming Exercise</h3>\n",
    "    <p>\n",
    "    Use a linear output layer <code>activation='linear'</code> to learn the function:\n",
    "    \\begin{equation}\n",
    "    f(x) = \\cos(2\\pi x) \\mathrm{e}^{-x^2/2}\n",
    "    \\end{equation}\n",
    "    </p>\n",
    "    <p>\n",
    "    for $-\\pi \\le x \\le \\pi$. <br />\n",
    "    </p>\n",
    "    <div>\n",
    "    <h4> 1. Define the function and plot the result. </h4>\n",
    "    </div>\n",
    "</div>"
   ]
  },
  {
   "cell_type": "code",
   "execution_count": null,
   "metadata": {},
   "outputs": [],
   "source": [
    "π = np.pi\n",
    "def f(x):\n",
    "    # INSERT CODE HERE\n",
    "    return 0"
   ]
  },
  {
   "cell_type": "markdown",
   "metadata": {},
   "source": [
    "We add an extra dimension to our 1D array (via `np.newaxis`) to treat the input $x$-coordinate as a *batch*"
   ]
  },
  {
   "cell_type": "code",
   "execution_count": null,
   "metadata": {},
   "outputs": [],
   "source": [
    "batchsize = # INSERT CODE HERE\n",
    "x = np.linspace(-π,π,batchsize)[:,np.newaxis]\n",
    "y = f(x)\n",
    "\n",
    "plt.plot(x,y[:,0])\n",
    "plt.xlabel(r'$x$')\n",
    "plt.ylabel(r'$f(x)$')"
   ]
  },
  {
   "cell_type": "markdown",
   "metadata": {},
   "source": [
    "<div class=\"span alert alert-success\">\n",
    "    <h4> 2. Setup your model and compile.  Use whatever architecture you like. </h4>\n",
    "</div>"
   ]
  },
  {
   "cell_type": "code",
   "execution_count": null,
   "metadata": {},
   "outputs": [],
   "source": [
    "model = keras.Sequential(\n",
    "    [\n",
    "     # INSERT CODE HERE\n",
    "    ])\n",
    "\n",
    "# INSERT CODE HERE to compile the model\n",
    "model.compile()\n",
    "\n",
    "model.summary()"
   ]
  },
  {
   "cell_type": "markdown",
   "metadata": {},
   "source": [
    "<div class=\"span alert alert-success\">\n",
    "    <h4> 3. Prepare your data.  We need to do a manual train test split here. </h4>\n",
    "    Can you think about why we need to do this instead of using <code>validation_split</code> as above? What other ways could you code this up?\n",
    "</div>"
   ]
  },
  {
   "cell_type": "code",
   "execution_count": null,
   "metadata": {},
   "outputs": [],
   "source": [
    "from sklearn.model_selection import train_test_split\n",
    "\n",
    "# We used this functionality in the feature mapping lecture.\n",
    "x_train, x_test, y_train, y_test = #INSERT CODE HERE"
   ]
  },
  {
   "cell_type": "code",
   "execution_count": null,
   "metadata": {},
   "outputs": [],
   "source": [
    "num_epochs = # INSERT CODE HERE\n",
    "\n",
    "history = model.fit(x=x_train,y=y_train, validation_data=(x_test,y_test), epochs=num_epochs, verbose=1)"
   ]
  },
  {
   "cell_type": "markdown",
   "metadata": {},
   "source": [
    "<div class=\"span alert alert-success\">\n",
    "    <h4> 4. Examine the loss function.  Do you need to modify any hyperparameters?</h4>\n",
    "</div>"
   ]
  },
  {
   "cell_type": "code",
   "execution_count": null,
   "metadata": {},
   "outputs": [],
   "source": [
    "plt.semilogy(history.history['loss'], color=colors[0], label='train')\n",
    "plt.semilogy(history.history['val_loss'], ls='--', color=colors[0], label='test')\n",
    "\n",
    "\n",
    "plt.ylabel(\"Cost\")\n",
    "plt.xlabel(\"Epoch\")\n",
    "plt.legend()"
   ]
  },
  {
   "cell_type": "markdown",
   "metadata": {},
   "source": [
    "<div class=\"span alert alert-success\">\n",
    "    <h4> 5. How well did the network learn?</h4>\n",
    "    Compare the prediction with the ground truth.  How well does it generalize outside of the learning domain?\n",
    "</div>\n",
    "\n",
    "If you are evaluating on a vector of inputs, don't forget to add a dimension `np.newaxis` to evaluate your model!"
   ]
  },
  {
   "cell_type": "code",
   "execution_count": null,
   "metadata": {},
   "outputs": [],
   "source": [
    "# INSERT CODE HERE\n",
    "\n",
    "plt.xlabel(r'$x$')\n",
    "plt.ylabel(r'$f(x)$')\n",
    "plt.legend()"
   ]
  }
 ],
 "metadata": {
  "kernelspec": {
   "display_name": "Python 3 (ipykernel)",
   "language": "python",
   "name": "python3"
  },
  "language_info": {
   "codemirror_mode": {
    "name": "ipython",
    "version": 3
   },
   "file_extension": ".py",
   "mimetype": "text/x-python",
   "name": "python",
   "nbconvert_exporter": "python",
   "pygments_lexer": "ipython3",
   "version": "3.9.7"
  }
 },
 "nbformat": 4,
 "nbformat_minor": 4
}
