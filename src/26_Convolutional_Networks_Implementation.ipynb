{
 "cells": [
  {
   "cell_type": "markdown",
   "metadata": {},
   "source": [
    "# Physics 494/594\n",
    "## Convolutional Networks: Implementation in Tensorflow"
   ]
  },
  {
   "cell_type": "code",
   "execution_count": null,
   "metadata": {},
   "outputs": [],
   "source": [
    "# %load ./include/header.py\n",
    "import numpy as np\n",
    "import matplotlib.pyplot as plt\n",
    "import sys\n",
    "from tqdm import trange,tqdm\n",
    "sys.path.append('./include')\n",
    "import ml4s\n",
    "\n",
    "%matplotlib inline\n",
    "%config InlineBackend.figure_format = 'svg'\n",
    "plt.style.use('./include/notebook.mplstyle')\n",
    "np.set_printoptions(linewidth=120)\n",
    "ml4s.set_css_style('./include/bootstrap.css')\n",
    "colors = plt.rcParams['axes.prop_cycle'].by_key()['color']\n",
    "π = np.pi"
   ]
  },
  {
   "cell_type": "markdown",
   "metadata": {},
   "source": [
    "## Last Time\n",
    "\n",
    "### [Notebook Link: 25_Convolutional_Networks.ipynb](./25_Convolutional_Networks.ipynb)\n",
    "\n",
    "- Convolutional networks: reducing free parameters and encoding the properties of images \n",
    "- Explore a simple example to understand how filters work\n",
    "\n",
    "## Today\n",
    "\n",
    "- Convolutional network implementation in tensorflow\n",
    "- Re-train on MNIST and explore improved generalizability\n",
    "\n",
    "### Import tensorflow"
   ]
  },
  {
   "cell_type": "code",
   "execution_count": null,
   "metadata": {},
   "outputs": [],
   "source": [
    "import tensorflow as tf\n",
    "from tensorflow import keras\n",
    "from tensorflow.keras import layers"
   ]
  },
  {
   "cell_type": "markdown",
   "metadata": {},
   "source": [
    "### Check if we have access to any GPUs for accelerated training"
   ]
  },
  {
   "cell_type": "code",
   "execution_count": null,
   "metadata": {},
   "outputs": [],
   "source": [
    "!nvidia-smi"
   ]
  },
  {
   "cell_type": "code",
   "execution_count": null,
   "metadata": {},
   "outputs": [],
   "source": [
    "print(f'tf = {tf.__version__}')\n",
    "physical_devices = tf.config.list_physical_devices('GPU')\n",
    "for device in physical_devices:\n",
    "    print(device)\n",
    "    \n",
    "# Determine our strategy for training\n",
    "if tf.config.list_physical_devices('GPU'):\n",
    "    strategy = tf.distribute.MirroredStrategy()\n",
    "else:  # Use the Default Strategy\n",
    "    strategy = tf.distribute.get_strategy()"
   ]
  },
  {
   "cell_type": "markdown",
   "metadata": {},
   "source": [
    "### Implement in `keras` for MNIST"
   ]
  },
  {
   "cell_type": "code",
   "execution_count": null,
   "metadata": {},
   "outputs": [],
   "source": [
    "(x_train, y_train), (x_test, y_test) = tf.keras.datasets.mnist.load_data()\n",
    "\n",
    "# Rescale the images from [0,255] to the [0.0,1.0] range.\n",
    "x_train, x_test = x_train[..., np.newaxis]/255.0, x_test[..., np.newaxis]/255.0\n",
    "\n",
    "print(\"Number of original training examples:\", len(x_train))\n",
    "print(\"Number of original test examples:\", len(x_test))\n",
    "\n",
    "# determine the properties\n",
    "rows,cols = x_train[0].shape[:-1]\n",
    "num_classes = np.max(y_test)+1\n",
    "\n",
    "# use a built-in function to get 1-hot encoding\n",
    "y_train_hot = keras.utils.to_categorical(y_train, num_classes)\n",
    "y_test_hot = keras.utils.to_categorical(y_test, num_classes)"
   ]
  },
  {
   "cell_type": "markdown",
   "metadata": {},
   "source": [
    "Our MNIST images are greyscale, so we only have 1 channel.  RGB images would have 3."
   ]
  },
  {
   "cell_type": "code",
   "execution_count": null,
   "metadata": {},
   "outputs": [],
   "source": [
    "print('              ', '(batch_size,rows,cols,channels)')\n",
    "print('x_train shape:', x_train.shape,'\\n')\n",
    "print('              ', '(batch_size,num classes)')\n",
    "print('y_train shape:', y_train_hot.shape,)"
   ]
  },
  {
   "cell_type": "code",
   "execution_count": null,
   "metadata": {},
   "outputs": [],
   "source": [
    "# instantiate model\n",
    "# model = keras.Sequential(\n",
    "# [\n",
    "#     layers.Conv2D(input_shape=(rows,cols, 1), kernel_size=(5, 5), filters=7,\n",
    "#                   activation='relu', padding='same'),\n",
    "#     layers.MaxPooling2D(pool_size=(4, 4)),\n",
    "#     layers.Flatten(),\n",
    "#     layers.Dense(num_classes, activation='softmax')\n",
    "# ])\n",
    "\n",
    "model = keras.Sequential(\n",
    "    [\n",
    "        layers.Conv2D(input_shape=(rows,cols,1), kernel_size=(5, 5), filters=10,\n",
    "                      activation='relu', padding='same'),\n",
    "        layers.MaxPooling2D(pool_size=(2, 2)),\n",
    "        layers.Conv2D(20, (5, 5), activation='relu'),\n",
    "        layers.Dropout(0.5),\n",
    "        layers.MaxPooling2D(pool_size=(2, 2)),\n",
    "        layers.Flatten(),\n",
    "        layers.Dense(20*4*4, activation='relu'),\n",
    "        layers.Dropout(0.5),\n",
    "        layers.Dense(num_classes, activation='softmax')\n",
    "    ])\n",
    "\n",
    "\n",
    "# compile \n",
    "model.compile(loss=tf.losses.CategoricalCrossentropy(), optimizer='adam',metrics=[tf.metrics.CategoricalAccuracy()])\n",
    "\n",
    "model.summary()"
   ]
  },
  {
   "cell_type": "markdown",
   "metadata": {},
   "source": [
    "### Visualize the Model\n",
    "\n",
    "I'm using the amazing NN svg generator by [Alex Lenail](http://alexlenail.me/NN-SVG/LeNet.html)"
   ]
  },
  {
   "cell_type": "code",
   "execution_count": null,
   "metadata": {},
   "outputs": [],
   "source": [
    "import ipyplot\n",
    "ipyplot.plot_images(['../data/convolutional_network.svg'],img_width=800)"
   ]
  },
  {
   "cell_type": "code",
   "execution_count": null,
   "metadata": {},
   "outputs": [],
   "source": [
    "batch_size = 64\n",
    "epochs = 10\n",
    "training = {}\n",
    "\n",
    "training = model.fit(x_train,y_train_hot, batch_size=batch_size, epochs=epochs,\n",
    "                     verbose=1, validation_data=(x_test,y_test_hot))"
   ]
  },
  {
   "cell_type": "code",
   "execution_count": null,
   "metadata": {},
   "outputs": [],
   "source": [
    "# look into training history\n",
    "fig,ax = plt.subplots(2,1, sharex=True, figsize=(5,5))\n",
    "\n",
    "score = model.evaluate(x_test, y_test_hot, verbose=0);\n",
    "\n",
    "# accuracy\n",
    "ax[0].plot(training.history['categorical_accuracy'], color=colors[0])\n",
    "ax[0].plot(training.history['val_categorical_accuracy'], ls='--', color=colors[-3])\n",
    "ax[0].set_ylabel('model accuracy')\n",
    "ax[0].legend(['train', 'test'], loc='best')\n",
    "ax[0].text(0.5,0.95,f'{score[1]:.2f}',horizontalalignment='center',verticalalignment='top', \n",
    "                         transform=ax[0].transAxes)\n",
    "ax[0].set_ylim(top=1)\n",
    "\n",
    "# loss\n",
    "ax[1].plot(training.history['loss'], color=colors[0])\n",
    "ax[1].plot(training.history['val_loss'], ls='--', color=colors[-3])\n",
    "ax[1].set_ylabel('model loss')\n",
    "ax[1].set_xlabel('epoch')\n",
    "ax[1].set_ylim(bottom=0)\n",
    "ax[1].text(0.5,0.95,f'{score[0]:.2f}',horizontalalignment='center',verticalalignment='top', \n",
    "                         transform=ax[1].transAxes)\n",
    "ax[1].legend(['train', 'test'], loc='best');"
   ]
  },
  {
   "cell_type": "code",
   "execution_count": null,
   "metadata": {},
   "outputs": [],
   "source": [
    "print(f'Test loss:     {score[0]:>5.3f}')\n",
    "print(f'Test accuracy: {100*score[1]:5.2f}%')"
   ]
  },
  {
   "cell_type": "markdown",
   "metadata": {},
   "source": [
    "### Investigate Predictions"
   ]
  },
  {
   "cell_type": "code",
   "execution_count": null,
   "metadata": {},
   "outputs": [],
   "source": [
    "predictions_prob_train = model(x_train)\n",
    "predictions_prob_test = model(x_test)\n",
    "\n",
    "predictions_train = np.argmax(predictions_prob_train,axis=1)\n",
    "predictions_test = np.argmax(predictions_prob_test,axis=1)\n",
    "\n",
    "mistakes_train = np.where(predictions_train != y_train)[0]\n",
    "mistakes_test = np.where(predictions_test != y_test)[0]\n",
    "\n",
    "num_mistakes_train,num_mistakes_test = len(mistakes_train),len(mistakes_test)\n",
    "\n",
    "print(f'Train Mistakes: {100*num_mistakes_train/x_train.shape[0]:.2f}%')\n",
    "print(f'Test Mistakes : {100*num_mistakes_test/x_test.shape[0]:.2f}%')"
   ]
  },
  {
   "cell_type": "code",
   "execution_count": null,
   "metadata": {},
   "outputs": [],
   "source": [
    "def plot_digit_array(x,y, show_prediction=False):\n",
    "    '''Expects a list of digits (x) and associated labels (y)'''\n",
    "    \n",
    "    # determine the number of rows and columns of our image array\n",
    "    num_digits = x.shape[0]\n",
    "    num_cols = int(np.sqrt(num_digits))\n",
    "    num_rows = num_digits//num_cols + 1\n",
    "\n",
    "    fig,ax = plt.subplots(nrows=num_rows,ncols=num_cols,sharex=True,sharey=True,\n",
    "                          figsize=(num_cols,num_rows))\n",
    "    \n",
    "    # plot all the numbers\n",
    "    for i,cax in enumerate(ax.flatten()):\n",
    "        if i < num_digits:\n",
    "            cax.matshow(x[i].reshape(28,28), cmap='binary')\n",
    "            cax.axis('off')\n",
    "            if show_prediction:\n",
    "                cax.text(0.99,0.99,f'{y[i]}',horizontalalignment='right',verticalalignment='top', \n",
    "                         transform=cax.transAxes, fontsize=8, color='r')\n",
    "        else:\n",
    "            cax.axis('off')"
   ]
  },
  {
   "cell_type": "code",
   "execution_count": null,
   "metadata": {},
   "outputs": [],
   "source": [
    "plot_digit_array(x_test[mistakes_test],predictions_test[mistakes_test],show_prediction=True)"
   ]
  },
  {
   "cell_type": "markdown",
   "metadata": {},
   "source": [
    "### Investigate how well our network generalizes\n",
    "\n",
    "Let's first determine the cases where we predicted the correct label"
   ]
  },
  {
   "cell_type": "code",
   "execution_count": null,
   "metadata": {},
   "outputs": [],
   "source": [
    "correct_train = np.where(predictions_train == y_train)[0]\n",
    "correct_test = np.where(predictions_test == y_test)[0]"
   ]
  },
  {
   "cell_type": "code",
   "execution_count": null,
   "metadata": {},
   "outputs": [],
   "source": [
    "from matplotlib import gridspec\n",
    "\n",
    "idx = np.random.choice(correct_test)\n",
    "\n",
    "fig = plt.figure(figsize=(3,1.2*3),constrained_layout=True) \n",
    "gs = gridspec.GridSpec(2, 1, height_ratios=[1, 5], figure=fig) \n",
    "\n",
    "ax = [plt.subplot(gs[0]),plt.subplot(gs[1])]\n",
    "\n",
    "ax[0].bar(range(num_classes),predictions_prob_test[idx], color='r')\n",
    "ax[0].set_xticks(range(num_classes))\n",
    "ax[0].set_yticks([]);\n",
    "ax[0].set_xlim(-0.5,9.5)\n",
    "\n",
    "ax[1].matshow(x_test[idx,:,:,0], cmap='binary')\n",
    "ax[1].text(0.99,0.99,f'{predictions_test[idx]}',horizontalalignment='right',verticalalignment='top', \n",
    "                         transform=ax[1].transAxes, color='r')\n",
    "ax[1].set_xticks([]);\n",
    "ax[1].set_yticks([]);"
   ]
  },
  {
   "cell_type": "markdown",
   "metadata": {},
   "source": [
    "### Let's see what happens if we translate the image"
   ]
  },
  {
   "cell_type": "code",
   "execution_count": null,
   "metadata": {},
   "outputs": [],
   "source": [
    "shift = -3\n",
    "translated_image = np.roll(x_test[idx,:,:,0], shift, axis=[0, 1])\n",
    "\n",
    "# make a prediction\n",
    "predict = model(translated_image.reshape(1,rows,cols,1))\n",
    "\n",
    "fig = plt.figure(figsize=(3,1.2*3),constrained_layout=True) \n",
    "gs = gridspec.GridSpec(2, 1, height_ratios=[1, 5], figure=fig) \n",
    "\n",
    "ax = [plt.subplot(gs[0]),plt.subplot(gs[1])]\n",
    "\n",
    "ax[0].bar(range(num_classes),predict[0,:], color='r')\n",
    "ax[0].set_xticks(range(num_classes))\n",
    "ax[0].set_yticks([]);\n",
    "ax[0].set_xlim(-0.5,9.5)\n",
    "\n",
    "ax[1].matshow(translated_image, cmap='binary')\n",
    "\n",
    "ax[1].text(0.99,0.99,f'{np.argmax(predict,axis=1)[0]}',horizontalalignment='right',verticalalignment='top', \n",
    "                         transform=ax[1].transAxes, color='r')\n",
    "ax[1].set_xticks([]);\n",
    "ax[1].set_yticks([]);"
   ]
  },
  {
   "cell_type": "markdown",
   "metadata": {},
   "source": [
    "### Or rotate it"
   ]
  },
  {
   "cell_type": "code",
   "execution_count": null,
   "metadata": {},
   "outputs": [],
   "source": [
    "from scipy import ndimage\n",
    "\n",
    "angle = 35\n",
    "rotated_digit = np.abs(ndimage.rotate(x_test[idx,:,:,0], angle, reshape=False)).astype(float)\n",
    "rotated_digit -= np.min(rotated_digit)\n",
    "rotated_digit /= np.max(rotated_digit)\n",
    "\n",
    "# make a prediction\n",
    "predict = model(rotated_digit.reshape(1,rows,cols,1))\n",
    "\n",
    "fig = plt.figure(figsize=(3,1.2*3),constrained_layout=True) \n",
    "gs = gridspec.GridSpec(2, 1, height_ratios=[1, 5], figure=fig) \n",
    "\n",
    "ax = [plt.subplot(gs[0]),plt.subplot(gs[1])]\n",
    "\n",
    "ax[0].bar(range(num_classes),predict[0,:], color='r')\n",
    "ax[0].set_xticks(range(num_classes))\n",
    "ax[0].set_yticks([]);\n",
    "ax[0].set_xlim(-0.5,9.5)\n",
    "\n",
    "ax[1].matshow(rotated_digit, cmap='binary')\n",
    "\n",
    "ax[1].text(0.99,0.99,f'{np.argmax(predict,axis=1)[0]}',horizontalalignment='right',verticalalignment='top', \n",
    "                         transform=ax[1].transAxes, color='r')\n",
    "ax[1].set_xticks([]);\n",
    "ax[1].set_yticks([]);\n"
   ]
  }
 ],
 "metadata": {
  "kernelspec": {
   "display_name": "Python 3 (ipykernel)",
   "language": "python",
   "name": "python3"
  },
  "language_info": {
   "codemirror_mode": {
    "name": "ipython",
    "version": 3
   },
   "file_extension": ".py",
   "mimetype": "text/x-python",
   "name": "python",
   "nbconvert_exporter": "python",
   "pygments_lexer": "ipython3",
   "version": "3.9.12"
  }
 },
 "nbformat": 4,
 "nbformat_minor": 4
}
