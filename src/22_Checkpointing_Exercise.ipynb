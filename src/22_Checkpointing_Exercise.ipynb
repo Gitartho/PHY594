{
 "cells": [
  {
   "cell_type": "markdown",
   "metadata": {},
   "source": [
    "# Physics 494/594\n",
    "## Checkpointing Trained Models"
   ]
  },
  {
   "cell_type": "code",
   "execution_count": null,
   "metadata": {},
   "outputs": [],
   "source": [
    "# %load ./include/header.py\n",
    "import numpy as np\n",
    "import matplotlib.pyplot as plt\n",
    "import sys\n",
    "from tqdm import trange,tqdm\n",
    "sys.path.append('./include')\n",
    "import ml4s\n",
    "\n",
    "%matplotlib inline\n",
    "%config InlineBackend.figure_format = 'svg'\n",
    "plt.style.use('./include/notebook.mplstyle')\n",
    "np.set_printoptions(linewidth=120)\n",
    "ml4s.set_css_style('./include/bootstrap.css')\n",
    "colors = plt.rcParams['axes.prop_cycle'].by_key()['color']"
   ]
  },
  {
   "cell_type": "markdown",
   "metadata": {},
   "source": [
    "## Last Time\n",
    "\n",
    "### [Notebook Link: 21_MNIST_Softmax.ipynb](./21_MNIST_Softmax.ipynb)\n",
    "\n",
    "- Classification for many classes (1-hot encoding and softmax)\n",
    "- MNIST: hand-written digits\n",
    "\n",
    "## Today\n",
    "- Learn how to store the results of a trained model to disk and load it.\n",
    "\n",
    "<div class=\"span alert alert-success\">\n",
    "    <h3>Model Checkpointing</h3>\n",
    "    \n",
    "<h4>1. Read the instructions here: <a href=\"https://www.tensorflow.org/tutorials/keras/save_and_load\">here</a> to learn about checkpointing. </h4>\n",
    "</div>\n",
    "\n",
    "### Import tensorflow"
   ]
  },
  {
   "cell_type": "code",
   "execution_count": null,
   "metadata": {},
   "outputs": [],
   "source": [
    "import tensorflow as tf\n",
    "from tensorflow import keras\n",
    "from tensorflow.keras import layers\n",
    "import datetime"
   ]
  },
  {
   "cell_type": "markdown",
   "metadata": {},
   "source": [
    "### Load the MNIST Data Set"
   ]
  },
  {
   "cell_type": "code",
   "execution_count": null,
   "metadata": {},
   "outputs": [],
   "source": [
    "# load the data\n",
    "(x_train, y_train), (x_test, y_test) = tf.keras.datasets.mnist.load_data()\n",
    "\n",
    "# determine the properties\n",
    "rows,cols = x_train[0].shape\n",
    "num_classes = np.max(y_test)+1\n",
    "\n",
    "# reshape and rescale\n",
    "x_train = x_train.reshape(x_train.shape[0], rows*cols).astype('float32')/255\n",
    "x_test = x_test.reshape(x_test.shape[0], rows*cols).astype('float32')/255\n",
    "\n",
    "# use a built-in function to get 1-hot encoding\n",
    "y_train_hot = keras.utils.to_categorical(y_train, num_classes)\n",
    "y_test_hot = keras.utils.to_categorical(y_test, num_classes)"
   ]
  },
  {
   "cell_type": "markdown",
   "metadata": {},
   "source": [
    "<div class=\"span alert alert-success\">    \n",
    "    <h4>2. Setup the model with checkpointing and train on the MNIST data set.</h4>\n",
    "</div>"
   ]
  },
  {
   "cell_type": "code",
   "execution_count": null,
   "metadata": {},
   "outputs": [],
   "source": [
    "model = keras.Sequential(\n",
    "[\n",
    "    # INSERT CODE HERE\n",
    "])\n",
    "model.summary()\n",
    "\n",
    "# compile the new model\n",
    "model.compile()\n",
    "\n",
    "# setup checkpointing\n",
    "# INSERT CODE HERE\n",
    "    \n",
    "# train the model\n",
    "training = model.fit()"
   ]
  },
  {
   "cell_type": "markdown",
   "metadata": {},
   "source": [
    "<div class=\"span alert alert-success\">\n",
    "    <h4>3. Define a new model and load the checkpoints from disk to apply your learned weights.</h4>\n",
    " \n",
    "    Make sure to evaluate to see that you have done this correctly.\n",
    "</div>"
   ]
  },
  {
   "cell_type": "code",
   "execution_count": null,
   "metadata": {},
   "outputs": [],
   "source": [
    "model_loaded = keras.Sequential(\n",
    "[\n",
    "    # INSERT CODE HERE\n",
    "])\n",
    "model_loaded.summary()\n",
    "\n",
    "# load the weights\n",
    "\n",
    "# INSERT CODE\n",
    "\n",
    "# evaluate your model on data and test\n",
    "\n",
    "# INSERT CODE HERE"
   ]
  }
 ],
 "metadata": {
  "kernelspec": {
   "display_name": "Python 3 (ipykernel)",
   "language": "python",
   "name": "python3"
  },
  "language_info": {
   "codemirror_mode": {
    "name": "ipython",
    "version": 3
   },
   "file_extension": ".py",
   "mimetype": "text/x-python",
   "name": "python",
   "nbconvert_exporter": "python",
   "pygments_lexer": "ipython3",
   "version": "3.9.7"
  }
 },
 "nbformat": 4,
 "nbformat_minor": 4
}
